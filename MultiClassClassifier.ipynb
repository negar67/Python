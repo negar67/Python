{
  "nbformat": 4,
  "nbformat_minor": 0,
  "metadata": {
    "colab": {
      "name": "MultiClassClassifier.ipynb",
      "provenance": [],
      "authorship_tag": "ABX9TyOh6K413koExgesPx/lfY1W",
      "include_colab_link": true
    },
    "kernelspec": {
      "name": "python3",
      "display_name": "Python 3"
    }
  },
  "cells": [
    {
      "cell_type": "markdown",
      "metadata": {
        "id": "view-in-github",
        "colab_type": "text"
      },
      "source": [
        "<a href=\"https://colab.research.google.com/github/negar67/Python/blob/master/MultiClassClassifier.ipynb\" target=\"_parent\"><img src=\"https://colab.research.google.com/assets/colab-badge.svg\" alt=\"Open In Colab\"/></a>"
      ]
    },
    {
      "cell_type": "code",
      "metadata": {
        "id": "8-eYWVl4tbyI",
        "colab_type": "code",
        "colab": {}
      },
      "source": [
        "#load a dataset and train two models to perform multiclass classification.\n",
        "#compare the results of the models\n",
        "#Dataset is the \"digits\" dataset from sklearn's datasets library.\n",
        "#Goal: to identify digits from 0 to 9 correctly\n",
        "\n",
        "#importing all necessary libraries and dataset\n",
        "from sklearn.linear_model import LogisticRegression\n",
        "from sklearn.ensemble import RandomForestClassifier\n",
        "from sklearn.datasets import load_digits #import load_digits function from the sklearn's datasets library\n",
        "from sklearn.model_selection import train_test_split\n",
        "from sklearn.model_selection import cross_val_score\n",
        "from sklearn.metrics import classification_report, confusion_matrix\n",
        "\n",
        "import matplotlib.pyplot as plt\n",
        "import pandas as pd\n",
        "import numpy as np\n",
        "import seaborn as sns"
      ],
      "execution_count": 0,
      "outputs": []
    },
    {
      "cell_type": "code",
      "metadata": {
        "id": "IlPedTts655E",
        "colab_type": "code",
        "colab": {}
      },
      "source": [
        "#load the dataset\n",
        "X, y = load_digits(return_X_y=True) #invokes load_digits with setting the return_X_y parameter to True and store the returned datasets in X, y variables"
      ],
      "execution_count": 0,
      "outputs": []
    },
    {
      "cell_type": "code",
      "metadata": {
        "id": "DOb1YLzw7QVi",
        "colab_type": "code",
        "colab": {
          "base_uri": "https://localhost:8080/",
          "height": 34
        },
        "outputId": "9c08efaa-0602-4cd9-a2eb-544b50337e0d"
      },
      "source": [
        "#performing Exploratory Data Analysis\n",
        "#displaying the number of rows and features in the dataset and checking if it is a balanced dataset (having almost same number of samples in each class)\n",
        "X.shape"
      ],
      "execution_count": 26,
      "outputs": [
        {
          "output_type": "execute_result",
          "data": {
            "text/plain": [
              "(1797, 64)"
            ]
          },
          "metadata": {
            "tags": []
          },
          "execution_count": 26
        }
      ]
    },
    {
      "cell_type": "code",
      "metadata": {
        "id": "Pl-heCoeIIX1",
        "colab_type": "code",
        "colab": {
          "base_uri": "https://localhost:8080/",
          "height": 34
        },
        "outputId": "4c291473-5065-4e18-99bf-0172a73b5307"
      },
      "source": [
        "#we see that there are 10 classes with ~180 samples in each one so it is a balanced dataset\n",
        "np.bincount(y)"
      ],
      "execution_count": 29,
      "outputs": [
        {
          "output_type": "execute_result",
          "data": {
            "text/plain": [
              "array([178, 182, 177, 183, 181, 182, 181, 179, 174, 180])"
            ]
          },
          "metadata": {
            "tags": []
          },
          "execution_count": 29
        }
      ]
    },
    {
      "cell_type": "code",
      "metadata": {
        "id": "aQ0LYOyEIxy2",
        "colab_type": "code",
        "colab": {}
      },
      "source": [
        "#split the dataset into training and testing data\n",
        "#test data proportion is 20%\n",
        "#setting the random_state to make the results repeatable\n",
        "X_train, X_test, y_train, y_test = train_test_split(X, y, test_size = 0.2, random_state = 25)"
      ],
      "execution_count": 0,
      "outputs": []
    },
    {
      "cell_type": "code",
      "metadata": {
        "id": "bzafIA5ELVIj",
        "colab_type": "code",
        "colab": {
          "base_uri": "https://localhost:8080/",
          "height": 51
        },
        "outputId": "79d540ec-8757-4858-f235-250683ab6031"
      },
      "source": [
        "#create a LogisticRegression classifier and use 5-fold cross validation to train the model\n",
        "#set the solver to 'lbfgs' and multiclass strategy to 'ovr' in LogisticRegression \n",
        "lr_clf = LogisticRegression(solver='lbfgs', multi_class='ovr', max_iter=1000)\n",
        "lr_cv_scores = cross_val_score(lr_clf, X, y, cv=5)\n",
        "\n",
        "print('Accuracy scores for the 5 folds: ', lr_cv_scores)\n",
        "print('Mean cross validation score: {:.3f}'.format(lr_cv_scores.mean()))"
      ],
      "execution_count": 39,
      "outputs": [
        {
          "output_type": "stream",
          "text": [
            "Accuracy scores for the 5 folds:  [0.90833333 0.87777778 0.94428969 0.9637883  0.8913649 ]\n",
            "Mean cross validation score: 0.917\n"
          ],
          "name": "stdout"
        }
      ]
    },
    {
      "cell_type": "code",
      "metadata": {
        "id": "kl3wf5IoQAHr",
        "colab_type": "code",
        "colab": {
          "base_uri": "https://localhost:8080/",
          "height": 51
        },
        "outputId": "22f497d9-30b1-449c-9a99-66d2a3428ad9"
      },
      "source": [
        "#This time create a RandomForest classifier and use 5-fold cross validation to train the model\n",
        "rf_clf = RandomForestClassifier(n_estimators = 24)\n",
        "rf_cv_scores = cross_val_score(rf_clf, X, y, cv=5)\n",
        "\n",
        "print('Accuracy scores for the 5 folds: ', rf_cv_scores)\n",
        "print('Mean cross validation score: {:.3f}'.format(rf_cv_scores.mean()))"
      ],
      "execution_count": 40,
      "outputs": [
        {
          "output_type": "stream",
          "text": [
            "Accuracy scores for the 5 folds:  [0.93333333 0.89166667 0.95821727 0.95821727 0.91086351]\n",
            "Mean cross validation score: 0.930\n"
          ],
          "name": "stdout"
        }
      ]
    }
  ]
}