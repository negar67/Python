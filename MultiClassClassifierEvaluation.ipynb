{
  "nbformat": 4,
  "nbformat_minor": 0,
  "metadata": {
    "colab": {
      "name": "MultiClassClassifierEvaluation.ipynb",
      "provenance": [],
      "authorship_tag": "ABX9TyMw4AiO4iWSVaheJPl3bKf3",
      "include_colab_link": true
    },
    "kernelspec": {
      "name": "python3",
      "display_name": "Python 3"
    }
  },
  "cells": [
    {
      "cell_type": "markdown",
      "metadata": {
        "id": "view-in-github",
        "colab_type": "text"
      },
      "source": [
        "<a href=\"https://colab.research.google.com/github/negar67/Python/blob/master/MultiClassClassifierEvaluation.ipynb\" target=\"_parent\"><img src=\"https://colab.research.google.com/assets/colab-badge.svg\" alt=\"Open In Colab\"/></a>"
      ]
    },
    {
      "cell_type": "code",
      "metadata": {
        "id": "8-eYWVl4tbyI",
        "colab_type": "code",
        "colab": {}
      },
      "source": [
        "#load a dataset and train two models to perform multiclass classification.\n",
        "#compare the results of the models\n",
        "#Dataset is the \"digits\" dataset from sklearn's datasets library.\n",
        "#Goal: to identify digits from 0 to 9 correctly\n",
        "\n",
        "#importing all necessary libraries and dataset\n",
        "from sklearn.linear_model import LogisticRegression\n",
        "from sklearn.ensemble import RandomForestClassifier\n",
        "from sklearn.datasets import load_digits #import load_digits function from the sklearn's datasets library\n",
        "from sklearn.model_selection import train_test_split\n",
        "from sklearn.model_selection import cross_val_score\n",
        "from sklearn.metrics import classification_report, confusion_matrix\n",
        "\n",
        "import matplotlib.pyplot as plt\n",
        "import pandas as pd\n",
        "import numpy as np\n",
        "import seaborn as sns"
      ],
      "execution_count": 0,
      "outputs": []
    },
    {
      "cell_type": "code",
      "metadata": {
        "id": "IlPedTts655E",
        "colab_type": "code",
        "colab": {}
      },
      "source": [
        "#load the dataset\n",
        "X, y = load_digits(return_X_y=True) #invokes load_digits with setting the return_X_y parameter to True and store the returned datasets in X, y variables"
      ],
      "execution_count": 0,
      "outputs": []
    },
    {
      "cell_type": "code",
      "metadata": {
        "id": "DOb1YLzw7QVi",
        "colab_type": "code",
        "colab": {
          "base_uri": "https://localhost:8080/",
          "height": 34
        },
        "outputId": "9c08efaa-0602-4cd9-a2eb-544b50337e0d"
      },
      "source": [
        "#performing Exploratory Data Analysis\n",
        "#displaying the number of rows and features in the dataset and checking if it is a balanced dataset (having almost same number of samples in each class)\n",
        "X.shape"
      ],
      "execution_count": 26,
      "outputs": [
        {
          "output_type": "execute_result",
          "data": {
            "text/plain": [
              "(1797, 64)"
            ]
          },
          "metadata": {
            "tags": []
          },
          "execution_count": 26
        }
      ]
    },
    {
      "cell_type": "code",
      "metadata": {
        "id": "Pl-heCoeIIX1",
        "colab_type": "code",
        "colab": {
          "base_uri": "https://localhost:8080/",
          "height": 34
        },
        "outputId": "4c291473-5065-4e18-99bf-0172a73b5307"
      },
      "source": [
        "#we see that there are 10 classes with ~180 samples in each one so it is a balanced dataset\n",
        "np.bincount(y)"
      ],
      "execution_count": 29,
      "outputs": [
        {
          "output_type": "execute_result",
          "data": {
            "text/plain": [
              "array([178, 182, 177, 183, 181, 182, 181, 179, 174, 180])"
            ]
          },
          "metadata": {
            "tags": []
          },
          "execution_count": 29
        }
      ]
    },
    {
      "cell_type": "code",
      "metadata": {
        "id": "aQ0LYOyEIxy2",
        "colab_type": "code",
        "colab": {}
      },
      "source": [
        "#split the dataset into training and testing data\n",
        "#test data proportion is 20%\n",
        "#setting the random_state to make the results repeatable\n",
        "X_train, X_test, y_train, y_test = train_test_split(X, y, test_size = 0.2, random_state = 25)"
      ],
      "execution_count": 0,
      "outputs": []
    },
    {
      "cell_type": "code",
      "metadata": {
        "id": "bzafIA5ELVIj",
        "colab_type": "code",
        "colab": {
          "base_uri": "https://localhost:8080/",
          "height": 51
        },
        "outputId": "79d540ec-8757-4858-f235-250683ab6031"
      },
      "source": [
        "#create a LogisticRegression classifier and use 5-fold cross validation to train the model\n",
        "#set the solver to 'lbfgs' and multiclass strategy to 'ovr' in LogisticRegression \n",
        "lr_clf = LogisticRegression(solver='lbfgs', multi_class='ovr', max_iter=1000)\n",
        "lr_cv_scores = cross_val_score(lr_clf, X, y, cv=5)\n",
        "\n",
        "print('Accuracy scores for the 5 folds: ', lr_cv_scores)\n",
        "print('Mean cross validation score: {:.3f}'.format(lr_cv_scores.mean()))"
      ],
      "execution_count": 39,
      "outputs": [
        {
          "output_type": "stream",
          "text": [
            "Accuracy scores for the 5 folds:  [0.90833333 0.87777778 0.94428969 0.9637883  0.8913649 ]\n",
            "Mean cross validation score: 0.917\n"
          ],
          "name": "stdout"
        }
      ]
    },
    {
      "cell_type": "code",
      "metadata": {
        "id": "kl3wf5IoQAHr",
        "colab_type": "code",
        "colab": {
          "base_uri": "https://localhost:8080/",
          "height": 51
        },
        "outputId": "35b7e45d-93f5-4c07-d5e6-873ff6584e03"
      },
      "source": [
        "#This time create a RandomForest classifier and use 5-fold cross validation to train the model\n",
        "rf_clf = RandomForestClassifier(n_estimators = 24)\n",
        "rf_cv_scores = cross_val_score(rf_clf, X, y, cv=5)\n",
        "\n",
        "print('Accuracy scores for the 5 folds: ', rf_cv_scores)\n",
        "print('Mean cross validation score: {:.3f}'.format(rf_cv_scores.mean()))"
      ],
      "execution_count": 41,
      "outputs": [
        {
          "output_type": "stream",
          "text": [
            "Accuracy scores for the 5 folds:  [0.90833333 0.89166667 0.94986072 0.95543175 0.89972145]\n",
            "Mean cross validation score: 0.921\n"
          ],
          "name": "stdout"
        }
      ]
    },
    {
      "cell_type": "code",
      "metadata": {
        "id": "ZbC_7u6CZA_f",
        "colab_type": "code",
        "colab": {
          "base_uri": "https://localhost:8080/",
          "height": 306
        },
        "outputId": "dd680d8e-9197-4009-9b6a-82a056b7a25b"
      },
      "source": [
        "#fit the classifier and then generate predictions on the test data\n",
        "rf_clf.fit(X_train, y_train)\n",
        "rf_predictions = rf_clf.predict(X_test)\n",
        "rf_report = classification_report(y_test, rf_predictions)\n",
        "print(rf_report)"
      ],
      "execution_count": 44,
      "outputs": [
        {
          "output_type": "stream",
          "text": [
            "              precision    recall  f1-score   support\n",
            "\n",
            "           0       1.00      1.00      1.00        36\n",
            "           1       0.95      1.00      0.97        36\n",
            "           2       1.00      1.00      1.00        33\n",
            "           3       0.97      0.93      0.95        40\n",
            "           4       0.95      0.97      0.96        40\n",
            "           5       0.97      0.95      0.96        37\n",
            "           6       1.00      0.89      0.94        35\n",
            "           7       0.97      0.97      0.97        38\n",
            "           8       0.83      0.97      0.90        31\n",
            "           9       0.94      0.91      0.93        34\n",
            "\n",
            "    accuracy                           0.96       360\n",
            "   macro avg       0.96      0.96      0.96       360\n",
            "weighted avg       0.96      0.96      0.96       360\n",
            "\n"
          ],
          "name": "stdout"
        }
      ]
    },
    {
      "cell_type": "code",
      "metadata": {
        "id": "Bw8ZsaRpaVJT",
        "colab_type": "code",
        "colab": {}
      },
      "source": [
        "#function to better visualize the confusion matrix\n",
        "def plot_confusion_matrix(cm,\n",
        "                          target_names,\n",
        "                          title='Confusion matrix',\n",
        "                          cmap=None,\n",
        "                          normalize=True):\n",
        "    \"\"\"\n",
        "    given a sklearn confusion matrix (cm), make a nice plot\n",
        "\n",
        "    Arguments\n",
        "    ---------\n",
        "    cm:           confusion matrix from sklearn.metrics.confusion_matrix\n",
        "\n",
        "    target_names: given classification classes such as [0, 1, 2]\n",
        "                  the class names, for example: ['high', 'medium', 'low']\n",
        "\n",
        "    title:        the text to display at the top of the matrix\n",
        "\n",
        "    cmap:         the gradient of the values displayed from matplotlib.pyplot.cm\n",
        "                  see http://matplotlib.org/examples/color/colormaps_reference.html\n",
        "                  plt.get_cmap('jet') or plt.cm.Blues\n",
        "\n",
        "    normalize:    If False, plot the raw numbers\n",
        "                  If True, plot the proportions\n",
        "\n",
        "    Usage\n",
        "    -----\n",
        "    plot_confusion_matrix(cm           = cm,                  # confusion matrix created by\n",
        "                                                              # sklearn.metrics.confusion_matrix\n",
        "                          normalize    = True,                # show proportions\n",
        "                          target_names = y_labels_vals,       # list of names of the classes\n",
        "                          title        = best_estimator_name) # title of graph\n",
        "\n",
        "    Citiation\n",
        "    ---------\n",
        "    http://scikit-learn.org/stable/auto_examples/model_selection/plot_confusion_matrix.html\n",
        "\n",
        "    \"\"\"\n",
        "    import matplotlib.pyplot as plt\n",
        "    import numpy as np\n",
        "    import itertools\n",
        "\n",
        "    accuracy = np.trace(cm) / float(np.sum(cm))\n",
        "    misclass = 1 - accuracy\n",
        "\n",
        "    if cmap is None:\n",
        "        cmap = plt.get_cmap('Blues')\n",
        "\n",
        "    plt.figure(figsize=(8, 6))\n",
        "    plt.imshow(cm, interpolation='nearest', cmap=cmap)\n",
        "    plt.title(title)\n",
        "    plt.colorbar()\n",
        "\n",
        "    if target_names is not None:\n",
        "        tick_marks = np.arange(len(target_names))\n",
        "        plt.xticks(tick_marks, target_names, rotation=45)\n",
        "        plt.yticks(tick_marks, target_names)\n",
        "\n",
        "    if normalize:\n",
        "        cm = cm.astype('float') / cm.sum(axis=1)[:, np.newaxis]\n",
        "\n",
        "\n",
        "    thresh = cm.max() / 1.5 if normalize else cm.max() / 2\n",
        "    for i, j in itertools.product(range(cm.shape[0]), range(cm.shape[1])):\n",
        "        if normalize:\n",
        "            plt.text(j, i, \"{:0.4f}\".format(cm[i, j]),\n",
        "                     horizontalalignment=\"center\",\n",
        "                     color=\"white\" if cm[i, j] > thresh else \"black\")\n",
        "        else:\n",
        "            plt.text(j, i, \"{:,}\".format(cm[i, j]),\n",
        "                     horizontalalignment=\"center\",\n",
        "                     color=\"white\" if cm[i, j] > thresh else \"black\")\n",
        "\n",
        "\n",
        "    plt.tight_layout()\n",
        "    plt.ylabel('Predicted label')\n",
        "    plt.xlabel('True label\\naccuracy={:0.4f}; misclass={:0.4f}'.format(accuracy, misclass))\n",
        "    plt.show()"
      ],
      "execution_count": 0,
      "outputs": []
    },
    {
      "cell_type": "code",
      "metadata": {
        "id": "p-UfVpSyaii6",
        "colab_type": "code",
        "colab": {
          "base_uri": "https://localhost:8080/",
          "height": 467
        },
        "outputId": "feabd919-c336-4941-919e-c61b0b716af0"
      },
      "source": [
        "confusion_rf = confusion_matrix(y_test, rf_predictions)\n",
        "plot_confusion_matrix(cm=confusion_rf, target_names=[i for i in range(10)], title = 'Confusion Matrix', normalize=False)"
      ],
      "execution_count": 47,
      "outputs": [
        {
          "output_type": "display_data",
          "data": {
            "image/png": "[encoded data removed]",
            "text/plain": [
              "<Figure size 576x432 with 2 Axes>"
            ]
          },
          "metadata": {
            "tags": []
          }
        }
      ]
    }
  ]
}