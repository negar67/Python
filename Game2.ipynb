{
  "nbformat": 4,
  "nbformat_minor": 0,
  "metadata": {
    "colab": {
      "name": "Game2.ipynb",
      "provenance": [],
      "authorship_tag": "ABX9TyM4ZKW3tvJ5kuC39zu4rhca",
      "include_colab_link": true
    },
    "kernelspec": {
      "name": "python3",
      "display_name": "Python 3"
    }
  },
  "cells": [
    {
      "cell_type": "markdown",
      "metadata": {
        "id": "view-in-github",
        "colab_type": "text"
      },
      "source": [
        "<a href=\"https://colab.research.google.com/github/negar67/Python/blob/master/Game2.ipynb\" target=\"_parent\"><img src=\"https://colab.research.google.com/assets/colab-badge.svg\" alt=\"Open In Colab\"/></a>"
      ]
    },
    {
      "cell_type": "code",
      "metadata": {
        "id": "lUCSE2Hd3p6k",
        "colab_type": "code",
        "colab": {
          "base_uri": "https://localhost:8080/",
          "height": 34
        },
        "outputId": "b35b8e1e-fcff-4936-d24a-cffc4745a26b"
      },
      "source": [
        "print(\"Welcome to Negar Nazari Tic Tac Toe game\")"
      ],
      "execution_count": 2,
      "outputs": [
        {
          "output_type": "stream",
          "text": [
            "Welcome to Negar Nazari Tic Tac Toe game\n"
          ],
          "name": "stdout"
        }
      ]
    },
    {
      "cell_type": "code",
      "metadata": {
        "id": "MZMjeo-W4K-4",
        "colab_type": "code",
        "colab": {
          "base_uri": "https://localhost:8080/",
          "height": 34
        },
        "outputId": "499fa0e7-d65c-4266-b6a6-1e4bec0e1223"
      },
      "source": [
        "print(\"The Tic Tac Toe boxes goes from 1 to 9\")"
      ],
      "execution_count": 4,
      "outputs": [
        {
          "output_type": "stream",
          "text": [
            "The Tic Tac Toe boxes goes from 1 to 9\n"
          ],
          "name": "stdout"
        }
      ]
    },
    {
      "cell_type": "code",
      "metadata": {
        "id": "tdmrC0LB4SKp",
        "colab_type": "code",
        "colab": {
          "base_uri": "https://localhost:8080/",
          "height": 34
        },
        "outputId": "b7cfc1ed-f0ed-4cfb-fef0-d1d1f005fd2a"
      },
      "source": [
        "print(\"1 is the top left box and 9 is considered the bottom right\")"
      ],
      "execution_count": 6,
      "outputs": [
        {
          "output_type": "stream",
          "text": [
            "1 is the top left box and 9 is considered the bottom right\n"
          ],
          "name": "stdout"
        }
      ]
    },
    {
      "cell_type": "code",
      "metadata": {
        "id": "b6dyHZXN4aEe",
        "colab_type": "code",
        "colab": {
          "base_uri": "https://localhost:8080/",
          "height": 34
        },
        "outputId": "01d7bf2d-994a-4d99-85d0-7f4b41dcaa0a"
      },
      "source": [
        "print(\"Let's play!\")"
      ],
      "execution_count": 8,
      "outputs": [
        {
          "output_type": "stream",
          "text": [
            "Let's play!\n"
          ],
          "name": "stdout"
        }
      ]
    },
    {
      "cell_type": "code",
      "metadata": {
        "id": "SWDmWAgt4yVP",
        "colab_type": "code",
        "colab": {
          "base_uri": "https://localhost:8080/",
          "height": 410
        },
        "outputId": "418d3278-5c73-434c-9cba-39610d6e7f18"
      },
      "source": [
        "#This is a library used for creating Games\n",
        "import random\n",
        "\n",
        "#Contains functions (for simple words) relevant for creating games\n",
        "#Allows your Python program to interact within system in a more efficient way\n",
        "import sys\n",
        "\n",
        "board = [i for i in range(0,9)]\n",
        "player, computer = '',''\n",
        "\n",
        "#This is how you create the parameters for the game\n",
        "moves=((1,7,3,9),(5,),(2,4,6,8))\n",
        "\n",
        "#Setup combinations to win\n",
        "winners=((0,1,2),(3,4,5),(6,7,8),(0,3,6),(1,4,7),(2,5,8),(0,4,8),(2,4,6))\n",
        "\n",
        "#Setup Table\n",
        "tab=range(1,10)\n",
        "\n",
        "def print_board():\n",
        "  x=1\n",
        "  for i in board:\n",
        "    end = ' | '\n",
        "    if x%3 == 0:\n",
        "      end = ' \\n'\n",
        "      if i != 1: end+='---------\\n';\n",
        "    char = ' '\n",
        "    if i in ('X','O'): char=i;\n",
        "    x+=1\n",
        "    print(char,end=end)\n",
        "\n",
        "def select_char():\n",
        "  chars=('X','O')\n",
        "  if random.randint(0,1) == 0:\n",
        "    return chars[::-1]\n",
        "  return chars\n",
        "\n",
        "def can_move(brd, player, move):\n",
        "  if move in tab and brd[move-1] == move-1:\n",
        "    return True\n",
        "  return False\n",
        "\n",
        "def can_win(brd, player, move):\n",
        "  places=[]\n",
        "  x=0\n",
        "  for i in brd:\n",
        "    if i == player: places.append(x);\n",
        "    x+=1\n",
        "  win=True\n",
        "  for tup in winners:\n",
        "    win=True\n",
        "    for ix in tup:\n",
        "        if brd[ix] != player:\n",
        "            win = False\n",
        "            break\n",
        "    if win == True:\n",
        "        break\n",
        "  return win\n",
        "\n",
        "def make_move(brd, player, move, undo=False):\n",
        "  if can_move(brd, player, move):\n",
        "    brd[move-1] = player\n",
        "    win=can_win(brd, player, move)\n",
        "    if undo:\n",
        "        brd[move-1] = move-1\n",
        "    return (True, win)\n",
        "  return (False, False)\n",
        "\n",
        "#Gameplay functions go here for player and computer\n",
        "def computer_move():\n",
        "  move=1\n",
        "  #when player makes these moves the player wins\n",
        "  for i in range(1,10):\n",
        "      if make_move(board, computer, i, True)[1]:\n",
        "          move=i\n",
        "          break\n",
        "  if move == -1:\n",
        "    #If player can win, block him.\n",
        "    for i in range(1,10):\n",
        "      if make_move(board, player, i, True)[1]:\n",
        "        move=i\n",
        "        break\n",
        "  if move == -1:\n",
        "    #Try to win\n",
        "    for tup in moves:\n",
        "      for mv in tup:\n",
        "        if move == -1 and can_move(board, computer, mv):\n",
        "            move=mv\n",
        "            break\n",
        "  return make_move(board, computer, move)\n",
        "\n",
        "def space_exist():\n",
        "  return board.count('X') + board.count('O') != 9\n",
        "\n",
        "player, computer = select_char()\n",
        "print('Player is [%s] and computer is [%s]' % (player, computer))\n",
        "result='Play Again'\n",
        "while space_exist():\n",
        "  print_board()\n",
        "  print('# Lets Play ! [Press 1-9 to choose your move!] : ', end='')\n",
        "  move = int(input())\n",
        "  moved, won = make_move(board, player, move)\n",
        "  if not moved:\n",
        "    print(' >> Invalid number ! Try again !')\n",
        "    continue\n",
        "\n",
        "  #\n",
        "  if won:\n",
        "    result='*** You are the Winner ! ***'\n",
        "    break\n",
        "  elif computer_move()[1]:\n",
        "    result='=== You are a loser :( =='\n",
        "    break;\n",
        "\n",
        "print_board()\n",
        "print(result)"
      ],
      "execution_count": 0,
      "outputs": [
        {
          "output_type": "stream",
          "text": [
            "Player is [O] and computer is [X]\n",
            "  |   |   \n",
            "---------\n",
            "  |   |   \n",
            "---------\n",
            "  |   |   \n",
            "---------\n",
            "# Lets Play ! [Press 1-9 to choose your move!] : 6\n",
            "X |   |   \n",
            "---------\n",
            "  |   | O \n",
            "---------\n",
            "  |   |   \n",
            "---------\n",
            "# Lets Play ! [Press 1-9 to choose your move!] : 7\n",
            "X |   |   \n",
            "---------\n",
            "  |   | O \n",
            "---------\n",
            "O |   |   \n",
            "---------\n",
            "# Lets Play ! [Press 1-9 to choose your move!] : "
          ],
          "name": "stdout"
        }
      ]
    },
    {
      "cell_type": "code",
      "metadata": {
        "id": "qthRIIs27O3q",
        "colab_type": "code",
        "colab": {}
      },
      "source": [
        ""
      ],
      "execution_count": 0,
      "outputs": []
    }
  ]
}