{
  "nbformat": 4,
  "nbformat_minor": 0,
  "metadata": {
    "colab": {
      "name": "ImageClassification.ipynb",
      "provenance": [],
      "authorship_tag": "ABX9TyMlfPMlPxiRRMRG2KyEw89s",
      "include_colab_link": true
    },
    "kernelspec": {
      "name": "python3",
      "display_name": "Python 3"
    }
  },
  "cells": [
    {
      "cell_type": "markdown",
      "metadata": {
        "id": "view-in-github",
        "colab_type": "text"
      },
      "source": [
        "<a href=\"https://colab.research.google.com/github/negar67/Python/blob/master/ImageClassification.ipynb\" target=\"_parent\"><img src=\"https://colab.research.google.com/assets/colab-badge.svg\" alt=\"Open In Colab\"/></a>"
      ]
    },
    {
      "cell_type": "code",
      "metadata": {
        "id": "rYLCM7OewUIB",
        "colab_type": "code",
        "colab": {}
      },
      "source": [
        "import tensorflow as tf #A high level framework for Advanced Deep Learning\n",
        "from tensorflow import keras #A Neural Network Library within Tensorflow that supports both convolutional and recurrent networks\n",
        "#The primary use of Keras is classification, text generation, text summarization, tagging, Machine Translation, speech recognition\n",
        "import numpy as np #Numpy provides fast mathematical function processing\n",
        "import matplotlib.pyplot as plt # A library for Data Visualizations\n"
      ],
      "execution_count": 0,
      "outputs": []
    },
    {
      "cell_type": "code",
      "metadata": {
        "id": "8eu0Tq55xVyV",
        "colab_type": "code",
        "colab": {
          "base_uri": "https://localhost:8080/",
          "height": 34
        },
        "outputId": "66b7cf38-fb12-4914-cd77-23b6a1d88a69"
      },
      "source": [
        "print(tf.__version__) #This tells us the current version of Tensorflow "
      ],
      "execution_count": 3,
      "outputs": [
        {
          "output_type": "stream",
          "text": [
            "2.2.0-rc2\n"
          ],
          "name": "stdout"
        }
      ]
    },
    {
      "cell_type": "code",
      "metadata": {
        "id": "eb3fUY-QxdhH",
        "colab_type": "code",
        "colab": {}
      },
      "source": [
        "#we're going to use a common library of datasets for beginners called \"cifar10\"\n",
        "from keras.datasets import cifar10"
      ],
      "execution_count": 0,
      "outputs": []
    },
    {
      "cell_type": "code",
      "metadata": {
        "id": "xKJdkPUoyEw4",
        "colab_type": "code",
        "colab": {}
      },
      "source": [
        "#we are training and testing the data with code below\n",
        "(x_train, y_train), (x_test, y_test) = cifar10.load_data()"
      ],
      "execution_count": 0,
      "outputs": []
    },
    {
      "cell_type": "code",
      "metadata": {
        "id": "sUGGB2Quyczg",
        "colab_type": "code",
        "colab": {
          "base_uri": "https://localhost:8080/",
          "height": 850
        },
        "outputId": "218c37ed-5395-40de-a8eb-366aabe7f6ca"
      },
      "source": [
        "#0 signifies first value\n",
        "#Example [0] in [6, 2, 3] would be the number 6\n",
        "#Remember Python starts with the number 0\n",
        "print(x_train[0])"
      ],
      "execution_count": 9,
      "outputs": [
        {
          "output_type": "stream",
          "text": [
            "[[[ 59  62  63]\n",
            "  [ 43  46  45]\n",
            "  [ 50  48  43]\n",
            "  ...\n",
            "  [158 132 108]\n",
            "  [152 125 102]\n",
            "  [148 124 103]]\n",
            "\n",
            " [[ 16  20  20]\n",
            "  [  0   0   0]\n",
            "  [ 18   8   0]\n",
            "  ...\n",
            "  [123  88  55]\n",
            "  [119  83  50]\n",
            "  [122  87  57]]\n",
            "\n",
            " [[ 25  24  21]\n",
            "  [ 16   7   0]\n",
            "  [ 49  27   8]\n",
            "  ...\n",
            "  [118  84  50]\n",
            "  [120  84  50]\n",
            "  [109  73  42]]\n",
            "\n",
            " ...\n",
            "\n",
            " [[208 170  96]\n",
            "  [201 153  34]\n",
            "  [198 161  26]\n",
            "  ...\n",
            "  [160 133  70]\n",
            "  [ 56  31   7]\n",
            "  [ 53  34  20]]\n",
            "\n",
            " [[180 139  96]\n",
            "  [173 123  42]\n",
            "  [186 144  30]\n",
            "  ...\n",
            "  [184 148  94]\n",
            "  [ 97  62  34]\n",
            "  [ 83  53  34]]\n",
            "\n",
            " [[177 144 116]\n",
            "  [168 129  94]\n",
            "  [179 142  87]\n",
            "  ...\n",
            "  [216 184 140]\n",
            "  [151 118  84]\n",
            "  [123  92  72]]]\n"
          ],
          "name": "stdout"
        }
      ]
    },
    {
      "cell_type": "code",
      "metadata": {
        "id": "569uVYYcy6Ji",
        "colab_type": "code",
        "colab": {
          "base_uri": "https://localhost:8080/",
          "height": 850
        },
        "outputId": "afc967cb-33e3-454e-8998-06e86c326d55"
      },
      "source": [
        "#Let's try a different value\n",
        "print(x_train[7])"
      ],
      "execution_count": 11,
      "outputs": [
        {
          "output_type": "stream",
          "text": [
            "[[[ 28  35  39]\n",
            "  [ 30  34  44]\n",
            "  [ 33  44  47]\n",
            "  ...\n",
            "  [ 43  56  45]\n",
            "  [ 52  64  53]\n",
            "  [ 46  58  47]]\n",
            "\n",
            " [[ 27  30  38]\n",
            "  [ 27  28  41]\n",
            "  [ 21  31  39]\n",
            "  ...\n",
            "  [112 136  97]\n",
            "  [117 140 101]\n",
            "  [115 138 100]]\n",
            "\n",
            " [[ 34  36  42]\n",
            "  [ 33  33  43]\n",
            "  [ 24  30  40]\n",
            "  ...\n",
            "  [175 208 143]\n",
            "  [177 209 144]\n",
            "  [176 208 143]]\n",
            "\n",
            " ...\n",
            "\n",
            " [[142 176 118]\n",
            "  [142 176 118]\n",
            "  [150 184 127]\n",
            "  ...\n",
            "  [134 175 119]\n",
            "  [128 168 112]\n",
            "  [134 175 119]]\n",
            "\n",
            " [[140 176 124]\n",
            "  [145 180 129]\n",
            "  [150 186 134]\n",
            "  ...\n",
            "  [131 170 119]\n",
            "  [130 170 119]\n",
            "  [122 162 111]]\n",
            "\n",
            " [[134 171 123]\n",
            "  [136 171 124]\n",
            "  [136 171 124]\n",
            "  ...\n",
            "  [106 144 100]\n",
            "  [104 142  99]\n",
            "  [101 140  96]]]\n"
          ],
          "name": "stdout"
        }
      ]
    },
    {
      "cell_type": "code",
      "metadata": {
        "id": "DdPwye9T0KH4",
        "colab_type": "code",
        "colab": {
          "base_uri": "https://localhost:8080/",
          "height": 34
        },
        "outputId": "c6bb1a76-f058-499a-90b8-a1acc6891a9f"
      },
      "source": [
        "#This tells us all of the data at value point 7 is labeled as whatever 7 is\n",
        "print(\"label: \", y_train[7])"
      ],
      "execution_count": 13,
      "outputs": [
        {
          "output_type": "stream",
          "text": [
            "label:  [7]\n"
          ],
          "name": "stdout"
        }
      ]
    },
    {
      "cell_type": "code",
      "metadata": {
        "id": "PQVodhIY0chZ",
        "colab_type": "code",
        "colab": {
          "base_uri": "https://localhost:8080/",
          "height": 266
        },
        "outputId": "36a48915-77a8-404e-ad4c-cb45f8df5ca6"
      },
      "source": [
        "plt.imshow(x_train[8]) #Code for Data Visualizations\n",
        "plt.show()"
      ],
      "execution_count": 16,
      "outputs": [
        {
          "output_type": "display_data",
          "data": {
            "image/png": "[encoded data removed]",
            "text/plain": [
              "<Figure size 432x288 with 1 Axes>"
            ]
          },
          "metadata": {
            "tags": [],
            "needs_background": "light"
          }
        }
      ]
    },
    {
      "cell_type": "code",
      "metadata": {
        "id": "-_6DyBQH1AaP",
        "colab_type": "code",
        "colab": {}
      },
      "source": [
        "fashion_mnist = keras.datasets.fashion_mnist\n",
        "(train_images, train_labels), (test_images, test_labels) =fashion_mnist.load_data()"
      ],
      "execution_count": 0,
      "outputs": []
    },
    {
      "cell_type": "code",
      "metadata": {
        "id": "nrxIFdQi1VHh",
        "colab_type": "code",
        "colab": {}
      },
      "source": [
        "class_names = ['T-shirt/top', 'Trouser', 'Pullover', 'Dress', 'Coat',\n",
        "               'Sandal', 'Shirt', 'Sneaker', 'Bag', 'Ankle boot']"
      ],
      "execution_count": 0,
      "outputs": []
    },
    {
      "cell_type": "code",
      "metadata": {
        "id": "px07ZsBt1pSG",
        "colab_type": "code",
        "colab": {
          "base_uri": "https://localhost:8080/",
          "height": 34
        },
        "outputId": "a75cf274-1fd2-4a16-9f20-affc2cbd6ec7"
      },
      "source": [
        "train_images.shape"
      ],
      "execution_count": 23,
      "outputs": [
        {
          "output_type": "execute_result",
          "data": {
            "text/plain": [
              "(60000, 28, 28)"
            ]
          },
          "metadata": {
            "tags": []
          },
          "execution_count": 23
        }
      ]
    },
    {
      "cell_type": "code",
      "metadata": {
        "id": "I_p7wFBQ1wKX",
        "colab_type": "code",
        "colab": {
          "base_uri": "https://localhost:8080/",
          "height": 265
        },
        "outputId": "54377dd0-6dfa-4f2e-ce8d-c0d88b6aacb4"
      },
      "source": [
        "plt.figure()\n",
        "plt.imshow(train_images[3])\n",
        "plt.colorbar()\n",
        "plt.grid(False)\n",
        "plt.show()"
      ],
      "execution_count": 25,
      "outputs": [
        {
          "output_type": "display_data",
          "data": {
            "image/png": "[encoded data removed]",
            "text/plain": [
              "<Figure size 432x288 with 2 Axes>"
            ]
          },
          "metadata": {
            "tags": [],
            "needs_background": "light"
          }
        }
      ]
    },
    {
      "cell_type": "code",
      "metadata": {
        "id": "7YDQ8tpt21IE",
        "colab_type": "code",
        "colab": {}
      },
      "source": [
        ""
      ],
      "execution_count": 0,
      "outputs": []
    }
  ]
}