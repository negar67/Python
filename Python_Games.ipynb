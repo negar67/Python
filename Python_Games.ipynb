{
  "nbformat": 4,
  "nbformat_minor": 0,
  "metadata": {
    "colab": {
      "name": "Python Games.ipynb",
      "provenance": [],
      "authorship_tag": "ABX9TyMEtXPnBKTJFhgCfeRItSN5",
      "include_colab_link": true
    },
    "kernelspec": {
      "name": "python3",
      "display_name": "Python 3"
    }
  },
  "cells": [
    {
      "cell_type": "markdown",
      "metadata": {
        "id": "view-in-github",
        "colab_type": "text"
      },
      "source": [
        "<a href=\"https://colab.research.google.com/github/negar67/Python/blob/master/Python_Games.ipynb\" target=\"_parent\"><img src=\"https://colab.research.google.com/assets/colab-badge.svg\" alt=\"Open In Colab\"/></a>"
      ]
    },
    {
      "cell_type": "code",
      "metadata": {
        "id": "TtfxrvZDjvSS",
        "colab_type": "code",
        "colab": {
          "base_uri": "https://localhost:8080/",
          "height": 34
        },
        "outputId": "18378231-2bed-4582-eeb3-e7c229bf9695"
      },
      "source": [
        "!pip install pygame"
      ],
      "execution_count": 2,
      "outputs": [
        {
          "output_type": "stream",
          "text": [
            "Requirement already satisfied: pygame in /usr/local/lib/python3.6/dist-packages (1.9.6)\n"
          ],
          "name": "stdout"
        }
      ]
    },
    {
      "cell_type": "code",
      "metadata": {
        "id": "rI7JHWJEkHr0",
        "colab_type": "code",
        "colab": {
          "base_uri": "https://localhost:8080/",
          "height": 68
        },
        "outputId": "329219c7-a033-464c-a32f-db4d8b3b1493"
      },
      "source": [
        "print('Welcome to the Negar Nazari GUESSING GAME!')\n",
        "print('You have 6 attempts at guessing letters in a word!')\n",
        "print('After the 6 tries, ITS OVER!')"
      ],
      "execution_count": 4,
      "outputs": [
        {
          "output_type": "stream",
          "text": [
            "Welcome to the Negar Nazari GUESSING GAME!\n",
            "You have 6 attempts at guessing letters in a word!\n",
            "After the 6 tries, ITS OVER!\n"
          ],
          "name": "stdout"
        }
      ]
    },
    {
      "cell_type": "code",
      "metadata": {
        "id": "uTS_9XaTkjX_",
        "colab_type": "code",
        "colab": {
          "base_uri": "https://localhost:8080/",
          "height": 714
        },
        "outputId": "363cb09a-0d2c-4ad4-da9f-1011f8e1f5d7"
      },
      "source": [
        "#This is a library algorithm for our guessing game\n",
        "import random\n",
        "\n",
        "def get_guess():\n",
        "\n",
        "  # Set the dashes to the length of the hidden word and set the guesses\n",
        "  # We will set 5\n",
        "  dashes = \"-\" * len(secret_word)\n",
        "  guesses_left = 5\n",
        "\n",
        "  # This will loop as long as BOTH conditions are true:\n",
        "  # 1. The number of guesses of left is greater than -1\n",
        "  # 2. The dash string does NOT equal the secret word\n",
        "  while guesses_left > -1 and not dashes == secret_word:\n",
        "\n",
        "    # print the amount of dashes and guesses left\n",
        "    print(dashes)\n",
        "    print(str(guesses_left))\n",
        "\n",
        "    # Ask the user for input\n",
        "    guess = input(\"Guess:\")\n",
        "\n",
        "    # Conditions that will print out a message according to the wrong guesses\n",
        "    if len(guess) != 1:\n",
        "      print(\"Your guess must have exactly one character!\")\n",
        "    # Create an elif function to setup our guidelines for the game\n",
        "    elif guess in secret_word:\n",
        "        print(\"That letter is in the secret word!\")\n",
        "        dashes = update_dashes(secret_word, dashes, guess)\n",
        "\n",
        "    # If the guess is wrong then we display a message and subtract\n",
        "    # the amount of guesses the user has by 1\n",
        "    else:\n",
        "          print(\"That letter is not in the secret word!\")\n",
        "          guesses_left -= 1\n",
        "\n",
        "  if guesses_left < 0:\n",
        "      print(\"You lose. The word was: \" + str(secret_word))\n",
        "\n",
        "    # If the dash string equals the secret word in the end then the user wins\n",
        "  else:\n",
        "      print(\"Congrats! You win. The word was: \" + str(secret_word))\n",
        "\n",
        "# This function updates the string of dashes by replacing the dashes\n",
        "# with words that match up with the hidden word if the player is correct\n",
        "def update_dashes(secret, cur_dash, rec_guess):\n",
        "  result = \"\"\n",
        "\n",
        "  for i in range(len(secret)):\n",
        "    if secret[i] == rec_guess:\n",
        "      result = result + rec_guess  # Adds guess to string if guess is correct\n",
        "    \n",
        "    else:\n",
        "      # Add the dash at index i to result if it doesn't match the guess\n",
        "      result = result + cur_dash[i]\n",
        "\n",
        "    return result\n",
        "\n",
        "words = [\"Hope\", \"Pink\", \"Sun\"]\n",
        "\n",
        "secret_word = random.choice(words)\n",
        "get_guess()\n",
        "\n",
        "  "
      ],
      "execution_count": 15,
      "outputs": [
        {
          "output_type": "stream",
          "text": [
            "----\n",
            "5\n",
            "Guess:run\n",
            "Your guess must have exactly one character!\n",
            "----\n",
            "5\n",
            "Guess:r\n",
            "That letter is not in the secret word!\n",
            "----\n",
            "4\n",
            "Guess:u\n",
            "That letter is not in the secret word!\n",
            "----\n",
            "3\n",
            "Guess:s\n",
            "That letter is not in the secret word!\n",
            "----\n",
            "2\n",
            "Guess:s\n",
            "That letter is not in the secret word!\n",
            "----\n",
            "1\n",
            "Guess:H\n",
            "That letter is in the secret word!\n",
            "H\n",
            "1\n",
            "Guess:P\n",
            "That letter is not in the secret word!\n",
            "H\n",
            "0\n",
            "Guess:o\n",
            "That letter is in the secret word!\n",
            "H\n",
            "0\n",
            "Guess:o\n",
            "That letter is in the secret word!\n",
            "H\n",
            "0\n",
            "Guess:s\n",
            "That letter is not in the secret word!\n",
            "You lose. The word was: Hope\n"
          ],
          "name": "stdout"
        }
      ]
    },
    {
      "cell_type": "code",
      "metadata": {
        "id": "d6M8ysLwm0P6",
        "colab_type": "code",
        "colab": {}
      },
      "source": [
        ""
      ],
      "execution_count": 0,
      "outputs": []
    }
  ]
}