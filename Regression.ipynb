{
  "nbformat": 4,
  "nbformat_minor": 0,
  "metadata": {
    "colab": {
      "name": "Regression.ipynb",
      "provenance": [],
      "authorship_tag": "ABX9TyMeuMnmuMJKM14vcepXVe6d",
      "include_colab_link": true
    },
    "kernelspec": {
      "name": "python3",
      "display_name": "Python 3"
    }
  },
  "cells": [
    {
      "cell_type": "markdown",
      "metadata": {
        "id": "view-in-github",
        "colab_type": "text"
      },
      "source": [
        "<a href=\"https://colab.research.google.com/github/negar67/Python/blob/master/Regression.ipynb\" target=\"_parent\"><img src=\"https://colab.research.google.com/assets/colab-badge.svg\" alt=\"Open In Colab\"/></a>"
      ]
    },
    {
      "cell_type": "code",
      "metadata": {
        "id": "is732H3r-7dH",
        "colab_type": "code",
        "colab": {}
      },
      "source": [
        "import numpy as np #Numpy provides fast mathematical function processing\n",
        "import matplotlib.pyplot as plt #Machine Learning library to create plots and visualizations\n",
        "import pandas as pd #Pandas is used for easy indexing and data collection tools\n",
        "import seaborn as sns #This is a library to do more attractive and in depth data visualization than Matplotlib\n",
        "from sklearn.model_selection import train_test_split #has replaced \"import sklearn.cross_validation as cross_validation\"\n",
        "from sklearn.linear_model import LinearRegression #MachineLearning library used to display\n",
        "from sklearn.svm import LinearSVC #Support Vector Classification #used to fit the data you provide, returning a \"best fit\" for regression/classification"
      ],
      "execution_count": 0,
      "outputs": []
    },
    {
      "cell_type": "code",
      "metadata": {
        "id": "_xavb4L7AhI3",
        "colab_type": "code",
        "colab": {}
      },
      "source": [
        "#Here we are importing the csv file\n",
        "#Mydata is the dataframe\n",
        "Mydata=pd.read_csv(\"https://raw.githubusercontent.com/TERRENCE2019/DATASETS/master/student_scores.csv\")"
      ],
      "execution_count": 0,
      "outputs": []
    },
    {
      "cell_type": "code",
      "metadata": {
        "id": "V-Q7TW38AyV5",
        "colab_type": "code",
        "outputId": "f40383e9-e44f-4449-fbc0-5f01271107f6",
        "colab": {
          "base_uri": "https://localhost:8080/",
          "height": 34
        }
      },
      "source": [
        "#This shows entire dataset in rows and columns\n",
        "Mydata.shape"
      ],
      "execution_count": 0,
      "outputs": [
        {
          "output_type": "execute_result",
          "data": {
            "text/plain": [
              "(25, 2)"
            ]
          },
          "metadata": {
            "tags": []
          },
          "execution_count": 10
        }
      ]
    },
    {
      "cell_type": "code",
      "metadata": {
        "id": "c9GgsU1RBMlu",
        "colab_type": "code",
        "outputId": "13291109-43eb-4d6d-a9f1-5361b8f75ff5",
        "colab": {
          "base_uri": "https://localhost:8080/",
          "height": 195
        }
      },
      "source": [
        "#This is the dataframe. head() is used to preview the data\n",
        "Mydata.head()"
      ],
      "execution_count": 0,
      "outputs": [
        {
          "output_type": "execute_result",
          "data": {
            "text/html": [
              "<div>\n",
              "<style scoped>\n",
              "    .dataframe tbody tr th:only-of-type {\n",
              "        vertical-align: middle;\n",
              "    }\n",
              "\n",
              "    .dataframe tbody tr th {\n",
              "        vertical-align: top;\n",
              "    }\n",
              "\n",
              "    .dataframe thead th {\n",
              "        text-align: right;\n",
              "    }\n",
              "</style>\n",
              "<table border=\"1\" class=\"dataframe\">\n",
              "  <thead>\n",
              "    <tr style=\"text-align: right;\">\n",
              "      <th></th>\n",
              "      <th>Hours</th>\n",
              "      <th>Scores</th>\n",
              "    </tr>\n",
              "  </thead>\n",
              "  <tbody>\n",
              "    <tr>\n",
              "      <th>0</th>\n",
              "      <td>2.5</td>\n",
              "      <td>21</td>\n",
              "    </tr>\n",
              "    <tr>\n",
              "      <th>1</th>\n",
              "      <td>5.1</td>\n",
              "      <td>47</td>\n",
              "    </tr>\n",
              "    <tr>\n",
              "      <th>2</th>\n",
              "      <td>3.2</td>\n",
              "      <td>27</td>\n",
              "    </tr>\n",
              "    <tr>\n",
              "      <th>3</th>\n",
              "      <td>8.5</td>\n",
              "      <td>75</td>\n",
              "    </tr>\n",
              "    <tr>\n",
              "      <th>4</th>\n",
              "      <td>3.5</td>\n",
              "      <td>30</td>\n",
              "    </tr>\n",
              "  </tbody>\n",
              "</table>\n",
              "</div>"
            ],
            "text/plain": [
              "   Hours  Scores\n",
              "0    2.5      21\n",
              "1    5.1      47\n",
              "2    3.2      27\n",
              "3    8.5      75\n",
              "4    3.5      30"
            ]
          },
          "metadata": {
            "tags": []
          },
          "execution_count": 12
        }
      ]
    },
    {
      "cell_type": "code",
      "metadata": {
        "id": "qzel2yRRBQHN",
        "colab_type": "code",
        "outputId": "53d9066e-5605-4668-d508-007c4672f18f",
        "colab": {
          "base_uri": "https://localhost:8080/",
          "height": 284
        }
      },
      "source": [
        "#This gives some insight into our data\n",
        "#Count tells that every row is equal in both columns\n",
        "#Mean tells the average of the values in each column\n",
        "#Standard deviation is the disparity between each number and the mean\n",
        "#A low std dev means that most of the numbers are close to the mean\n",
        "#A high std dev means that the numbers are more spread out\n",
        "Mydata.describe()"
      ],
      "execution_count": 0,
      "outputs": [
        {
          "output_type": "execute_result",
          "data": {
            "text/html": [
              "<div>\n",
              "<style scoped>\n",
              "    .dataframe tbody tr th:only-of-type {\n",
              "        vertical-align: middle;\n",
              "    }\n",
              "\n",
              "    .dataframe tbody tr th {\n",
              "        vertical-align: top;\n",
              "    }\n",
              "\n",
              "    .dataframe thead th {\n",
              "        text-align: right;\n",
              "    }\n",
              "</style>\n",
              "<table border=\"1\" class=\"dataframe\">\n",
              "  <thead>\n",
              "    <tr style=\"text-align: right;\">\n",
              "      <th></th>\n",
              "      <th>Hours</th>\n",
              "      <th>Scores</th>\n",
              "    </tr>\n",
              "  </thead>\n",
              "  <tbody>\n",
              "    <tr>\n",
              "      <th>count</th>\n",
              "      <td>25.000000</td>\n",
              "      <td>25.000000</td>\n",
              "    </tr>\n",
              "    <tr>\n",
              "      <th>mean</th>\n",
              "      <td>5.012000</td>\n",
              "      <td>51.480000</td>\n",
              "    </tr>\n",
              "    <tr>\n",
              "      <th>std</th>\n",
              "      <td>2.525094</td>\n",
              "      <td>25.286887</td>\n",
              "    </tr>\n",
              "    <tr>\n",
              "      <th>min</th>\n",
              "      <td>1.100000</td>\n",
              "      <td>17.000000</td>\n",
              "    </tr>\n",
              "    <tr>\n",
              "      <th>25%</th>\n",
              "      <td>2.700000</td>\n",
              "      <td>30.000000</td>\n",
              "    </tr>\n",
              "    <tr>\n",
              "      <th>50%</th>\n",
              "      <td>4.800000</td>\n",
              "      <td>47.000000</td>\n",
              "    </tr>\n",
              "    <tr>\n",
              "      <th>75%</th>\n",
              "      <td>7.400000</td>\n",
              "      <td>75.000000</td>\n",
              "    </tr>\n",
              "    <tr>\n",
              "      <th>max</th>\n",
              "      <td>9.200000</td>\n",
              "      <td>95.000000</td>\n",
              "    </tr>\n",
              "  </tbody>\n",
              "</table>\n",
              "</div>"
            ],
            "text/plain": [
              "           Hours     Scores\n",
              "count  25.000000  25.000000\n",
              "mean    5.012000  51.480000\n",
              "std     2.525094  25.286887\n",
              "min     1.100000  17.000000\n",
              "25%     2.700000  30.000000\n",
              "50%     4.800000  47.000000\n",
              "75%     7.400000  75.000000\n",
              "max     9.200000  95.000000"
            ]
          },
          "metadata": {
            "tags": []
          },
          "execution_count": 15
        }
      ]
    },
    {
      "cell_type": "code",
      "metadata": {
        "id": "9E8PzpLpB32y",
        "colab_type": "code",
        "outputId": "677ec3ad-4a7a-489b-9334-d1306e9775ce",
        "colab": {
          "base_uri": "https://localhost:8080/",
          "height": 295
        }
      },
      "source": [
        "Mydata.plot(x='Hours', y='Scores', style='o')\n",
        "plt.title('Hours vs Score')\n",
        "plt.xlabel('Hours Studies')\n",
        "plt.ylabel('Score')\n",
        "plt.show()"
      ],
      "execution_count": 0,
      "outputs": [
        {
          "output_type": "display_data",
          "data": {
            "image/png": "[encoded data removed]",
            "text/plain": [
              "<Figure size 432x288 with 1 Axes>"
            ]
          },
          "metadata": {
            "tags": []
          }
        }
      ]
    },
    {
      "cell_type": "code",
      "metadata": {
        "id": "CkA2lgu8CcLh",
        "colab_type": "code",
        "colab": {}
      },
      "source": [
        "#We will divide the data into \"Attributes\" and \"Labels\"\n",
        "#Attributes are the independent variable (x axis)\n",
        "#Labels are the dependent variables whose values are to be predicted (y axis)\n",
        "#Now we want to predict the percentage score depending upon the hours studies\n",
        "#iloc gets rows (or columns) at particularpositions in the index\n",
        "#row selector and column selector\n",
        "#Even though we have only have 2 columns this comes in handy with data with multiple columns\n",
        "x = Mydata.iloc[:,0:-1].values #Wes want all the rows \":\" and all the columns\n",
        "y = Mydata.iloc[:, 1].values # we want all the rows \":\" and just the second column as our (y axis = dependent variable = score)"
      ],
      "execution_count": 0,
      "outputs": []
    },
    {
      "cell_type": "code",
      "metadata": {
        "id": "JqPqzw0mDVBR",
        "colab_type": "code",
        "colab": {}
      },
      "source": [
        "#Split the dataset into the training set and test set\n",
        "#We're splitting the data for training and testing\n",
        "#75% of it will be for training and 25% of it will be tested for accuracy\n",
        "#xtrain: this will be your training modue)\n",
        "#ytrain: as you can imangine2, this will be your target for your first group\n",
        "xtrain, xtest, ytrain, ytest = train_test_split(x, y, train_size=0.75, test_size=0.25, random_state=0, shuffle=True)\n"
      ],
      "execution_count": 0,
      "outputs": []
    },
    {
      "cell_type": "code",
      "metadata": {
        "id": "w87PrHyXDr31",
        "colab_type": "code",
        "outputId": "7a40785f-c2e4-4cdc-c8a4-bee71fa24484",
        "colab": {
          "base_uri": "https://localhost:8080/",
          "height": 34
        }
      },
      "source": [
        "#These codes train our algorithm for linear Regression and Machine Learning\n",
        "reg = LinearRegression()\n",
        "reg.fit(xtrain, ytrain)\n",
        "LinearRegression(copy_X=True, fit_intercept=True, n_jobs=None, normalize=False)"
      ],
      "execution_count": 0,
      "outputs": [
        {
          "output_type": "execute_result",
          "data": {
            "text/plain": [
              "LinearRegression(copy_X=True, fit_intercept=True, n_jobs=None, normalize=False)"
            ]
          },
          "metadata": {
            "tags": []
          },
          "execution_count": 24
        }
      ]
    },
    {
      "cell_type": "code",
      "metadata": {
        "id": "5oVYOLKIEWN2",
        "colab_type": "code",
        "outputId": "4ab55230-3520-4420-89ad-4dee87311459",
        "colab": {
          "base_uri": "https://localhost:8080/",
          "height": 34
        }
      },
      "source": [
        "#We want to know intercept\n",
        "print(reg.intercept_)"
      ],
      "execution_count": 0,
      "outputs": [
        {
          "output_type": "stream",
          "text": [
            "1.9322042531516601\n"
          ],
          "name": "stdout"
        }
      ]
    },
    {
      "cell_type": "code",
      "metadata": {
        "id": "Jqsz4TRdEfSO",
        "colab_type": "code",
        "outputId": "0c13edbc-ee59-4e9d-946e-3b44c357b288",
        "colab": {
          "base_uri": "https://localhost:8080/",
          "height": 34
        }
      },
      "source": [
        "#The one hour more study can increase chances of higher score by 9.94%\n",
        "print(reg.coef_)"
      ],
      "execution_count": 0,
      "outputs": [
        {
          "output_type": "stream",
          "text": [
            "[9.94167834]\n"
          ],
          "name": "stdout"
        }
      ]
    },
    {
      "cell_type": "code",
      "metadata": {
        "id": "B_1ZQqOWF6TU",
        "colab_type": "code",
        "colab": {}
      },
      "source": [
        "#We will use our test data and see how accurately our algorithm predicts the percentage score to make predictions on the test data\n",
        "yprediction = reg.predict(xtest)"
      ],
      "execution_count": 0,
      "outputs": []
    },
    {
      "cell_type": "code",
      "metadata": {
        "id": "LQO98udqGK9K",
        "colab_type": "code",
        "colab": {}
      },
      "source": [
        "#This shows the actual value of the test scores compared to the predicted values\n",
        "#Not too bad but could use some tightening up\n",
        "Mydata2 = pd.DataFrame({'Actual':ytest, 'Predicted':yprediction})"
      ],
      "execution_count": 0,
      "outputs": []
    },
    {
      "cell_type": "code",
      "metadata": {
        "id": "4DQKl-_4GfrN",
        "colab_type": "code",
        "outputId": "5efb536b-8b6f-4038-f94d-0e5630112af6",
        "colab": {
          "base_uri": "https://localhost:8080/",
          "height": 254
        }
      },
      "source": [
        "Mydata2"
      ],
      "execution_count": 0,
      "outputs": [
        {
          "output_type": "execute_result",
          "data": {
            "text/html": [
              "<div>\n",
              "<style scoped>\n",
              "    .dataframe tbody tr th:only-of-type {\n",
              "        vertical-align: middle;\n",
              "    }\n",
              "\n",
              "    .dataframe tbody tr th {\n",
              "        vertical-align: top;\n",
              "    }\n",
              "\n",
              "    .dataframe thead th {\n",
              "        text-align: right;\n",
              "    }\n",
              "</style>\n",
              "<table border=\"1\" class=\"dataframe\">\n",
              "  <thead>\n",
              "    <tr style=\"text-align: right;\">\n",
              "      <th></th>\n",
              "      <th>Actual</th>\n",
              "      <th>Predicted</th>\n",
              "    </tr>\n",
              "  </thead>\n",
              "  <tbody>\n",
              "    <tr>\n",
              "      <th>0</th>\n",
              "      <td>20</td>\n",
              "      <td>16.844722</td>\n",
              "    </tr>\n",
              "    <tr>\n",
              "      <th>1</th>\n",
              "      <td>27</td>\n",
              "      <td>33.745575</td>\n",
              "    </tr>\n",
              "    <tr>\n",
              "      <th>2</th>\n",
              "      <td>69</td>\n",
              "      <td>75.500624</td>\n",
              "    </tr>\n",
              "    <tr>\n",
              "      <th>3</th>\n",
              "      <td>30</td>\n",
              "      <td>26.786400</td>\n",
              "    </tr>\n",
              "    <tr>\n",
              "      <th>4</th>\n",
              "      <td>62</td>\n",
              "      <td>60.588106</td>\n",
              "    </tr>\n",
              "    <tr>\n",
              "      <th>5</th>\n",
              "      <td>35</td>\n",
              "      <td>39.710582</td>\n",
              "    </tr>\n",
              "    <tr>\n",
              "      <th>6</th>\n",
              "      <td>24</td>\n",
              "      <td>20.821393</td>\n",
              "    </tr>\n",
              "  </tbody>\n",
              "</table>\n",
              "</div>"
            ],
            "text/plain": [
              "   Actual  Predicted\n",
              "0      20  16.844722\n",
              "1      27  33.745575\n",
              "2      69  75.500624\n",
              "3      30  26.786400\n",
              "4      62  60.588106\n",
              "5      35  39.710582\n",
              "6      24  20.821393"
            ]
          },
          "metadata": {
            "tags": []
          },
          "execution_count": 36
        }
      ]
    },
    {
      "cell_type": "code",
      "metadata": {
        "id": "_MdqyTEsHHKZ",
        "colab_type": "code",
        "outputId": "81e34bb7-919c-44c1-eb69-454701dedbbb",
        "colab": {
          "base_uri": "https://localhost:8080/",
          "height": 67
        }
      },
      "source": [
        "from sklearn import metrics\n",
        "#The Root Mean Squared Error is 4.5, which is less than 10% of the mean value of the percentage of all teh students (51.48)\n",
        "#This means that our algorithm did a okay job\n",
        "print('Mean Absolute Error:', metrics.mean_absolute_error(ytest, yprediction)) #the absolute value of the errors\n",
        "print('Mean Squared Error:', metrics.mean_squared_error(ytest,yprediction)) #Mean Squared Error (MSE) is the mean of the squared errors\n",
        "print('Root Mean Squared Error:', np.sqrt(metrics.mean_squared_error(ytest, yprediction))) #Square root of the mean of the squared errors"
      ],
      "execution_count": 0,
      "outputs": [
        {
          "output_type": "stream",
          "text": [
            "Mean Absolute Error: 4.130879918502482\n",
            "Mean Squared Error: 20.33292367497996\n",
            "Root Mean Squared Error: 4.509204328368805\n"
          ],
          "name": "stdout"
        }
      ]
    },
    {
      "cell_type": "code",
      "metadata": {
        "id": "96lqF2FSIf8U",
        "colab_type": "code",
        "outputId": "f62560a1-68cb-4c61-b15c-cd7518b21b56",
        "colab": {
          "base_uri": "https://localhost:8080/",
          "height": 295
        }
      },
      "source": [
        "plt.scatter(xtrain, ytrain, color = 'red')\n",
        "plt.plot(xtrain, reg.predict(xtrain), color ='blue')\n",
        "plt.title('Hours Studied vs Percentage Score (Training set)')\n",
        "plt.xlabel('Hours Studied')\n",
        "plt.ylabel('Percentage Score')\n",
        "plt.show()"
      ],
      "execution_count": 0,
      "outputs": [
        {
          "output_type": "display_data",
          "data": {
            "image/png": "[encoded data removed]",
            "text/plain": [
              "<Figure size 432x288 with 1 Axes>"
            ]
          },
          "metadata": {
            "tags": []
          }
        }
      ]
    }
  ]
}